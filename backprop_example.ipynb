{
 "cells": [
  {
   "cell_type": "code",
   "execution_count": null,
   "metadata": {},
   "outputs": [],
   "source": [
    "import numpy as np\n",
    "import matplotlib.pyplot as plt"
   ]
  },
  {
   "cell_type": "code",
   "execution_count": 1,
   "metadata": {},
   "outputs": [],
   "source": [
    "def plot_nn(x1=None, x2=None, y=None, w1=0, w2=0, b1=0, b2=0, show_loss=False, ax=None):\n",
    "    markers = ['D', 'x']\n",
    "    colors = ['r', 'b']\n",
    "    \n",
    "    epsilon = 0.2\n",
    "    \n",
    "    x1_min = np.min(x1) - epsilon\n",
    "    x1_max = np.max(x1) + epsilon\n",
    "    x2_min = np.min(x2) - epsilon\n",
    "    x2_max = np.max(x2) + epsilon\n",
    "    \n",
    "    n = x1.shape[0]\n",
    "    \n",
    "    l = cost(forward(w1, b1, w2, b2, np.stack((x1, x2))), y)\n",
    "    if show_loss:\n",
    "        print('Loss: %s' % l)\n",
    "\n",
    "    xx1, xx2 = np.mgrid[x1_min:x1_max:0.01, x2_min:x2_max:0.01]\n",
    "    \n",
    "    z = forward(w1, b1, w2, b2, np.stack((xx1.flatten(), xx2.flatten())))\n",
    "    z = z.reshape(xx1.shape)\n",
    "\n",
    "    ax = ax or plt.gca()\n",
    "    \n",
    "    epsilon = 0.1\n",
    "    contour = ax.contourf(xx1, xx2, z, 25, cmap=\"RdBu\",\n",
    "                      vmin=0, vmax=1)\n",
    "    \n",
    "    ax_c = plt.colorbar(contour)\n",
    "    ax_c.set_label(\"$P(y = 1)$\")\n",
    "    ax_c.set_ticks([0, .25, .5, .75, 1])\n",
    "\n",
    "    ax.set(aspect=\"equal\",\n",
    "    xlim=(x1_min, x1_max), ylim=(x2_min, x2_max),\n",
    "    xlabel=\"$X_1$\", ylabel=\"$X_2$\")\n",
    "    \n",
    "    for i in range(n):\n",
    "        ax.scatter(x1[i], x2[i], c=colors[y[i]], linewidths=3, alpha=1)\n",
    "    \n",
    "    plt.show() "
   ]
  },
  {
   "cell_type": "code",
   "execution_count": null,
   "metadata": {},
   "outputs": [],
   "source": [
    "def relu(z):\n",
    "    return np.maximum(0, z)\n",
    "\n",
    "def sigmoid(z):\n",
    "    return 1/(1 + np.exp(-z))\n",
    "\n",
    "def dRelu (z):\n",
    "    return (z > 0)*1\n",
    "\n",
    "def dSigmoid(z):\n",
    "    return z*(1 - z)"
   ]
  },
  {
   "cell_type": "code",
   "execution_count": null,
   "metadata": {},
   "outputs": [],
   "source": [
    "def L(a, y):\n",
    "    return -y*np.log(a) - (1 - y)*np.log(1 -a)\n",
    "\n",
    "def cost(a, y):\n",
    "    return np.sum(L(a, y))"
   ]
  },
  {
   "cell_type": "code",
   "execution_count": null,
   "metadata": {},
   "outputs": [],
   "source": [
    "def forward(W1, b1, W2, b2, X):\n",
    "    Z1 = np.dot(W1, X) + b1\n",
    "    A1 = relu(Z1)\n",
    "    \n",
    "    Z2 = np.dot(W2, A1) + b2\n",
    "    A2 = sigmoid(Z2)\n",
    "    return A2"
   ]
  },
  {
   "cell_type": "code",
   "execution_count": null,
   "metadata": {},
   "outputs": [],
   "source": [
    "X = np.array([[0, 2], [1, 2], [-1, 0], [4, 0]]).T\n",
    "y = np.array([0, 1, 1, 0])\n",
    "\n",
    "n0 = X.shape[0]\n",
    "m = X.shape[1]"
   ]
  },
  {
   "cell_type": "code",
   "execution_count": null,
   "metadata": {},
   "outputs": [],
   "source": [
    "np.random.seed(1)\n",
    "\n",
    "n1 = 3\n",
    "\n",
    "#c = 0.01\n",
    "\n",
    "#W1_init = np.random.randn(n0*n1).reshape(n1, n0)*c\n",
    "#b1_init = np.zeros(n1).reshape(n1,1)\n",
    "\n",
    "#W2_init = np.random.randn(n1).reshape(1, n1)*c\n",
    "#b2_init = 0\n",
    "\n",
    "W1_init = np.array([[1, 2], [-3, -4], [5, 6]])\n",
    "b1_init = np.array([[-1], [2], [-3]])\n",
    "\n",
    "W2_init = np.array([[0.1, 0.2, 0.3]])\n",
    "b2_init = -5"
   ]
  },
  {
   "cell_type": "code",
   "execution_count": null,
   "metadata": {},
   "outputs": [],
   "source": [
    "n_iters = 1000\n",
    "lr = 0.01\n",
    "\n",
    "W1 = W1_init\n",
    "W2 = W2_init\n",
    "b1 = b1_init\n",
    "b2 = b2_init\n",
    "\n",
    "costs = []\n",
    "\n",
    "for i in range(n_iters): \n",
    "    # Forward pass\n",
    "    Z1 = np.dot(W1, X) + b1\n",
    "    A1 = relu(Z1)\n",
    "\n",
    "    Z2 = np.dot(W2, A1) + b2\n",
    "    A2 = sigmoid(Z2)\n",
    "    \n",
    "    # Compute loss\n",
    "    C = cost(A2, y)\n",
    "    costs.append(C)\n",
    "    \n",
    "    # Backward pass\n",
    "    dZ2 = 1/m*(A2 - y)\n",
    "    dW2 = np.dot(dZ2, A1.T)\n",
    "    db2 = np.sum(dZ2, axis=1, keepdims=True) \n",
    "\n",
    "    dZ1 = np.dot(W2.T, dZ2)*dRelu(Z1)\n",
    "    dW1 = np.dot(dZ1, X.T)\n",
    "    db1 = np.sum(dZ1, axis=1, keepdims=True)\n",
    "\n",
    "    # Gradient descent step\n",
    "    W1 = W1 - lr*dW1\n",
    "    b1 = b1 - lr*db1\n",
    "    \n",
    "    W2 = W2 - lr*dW2\n",
    "    b2 = b2 - lr*db2\n",
    "    \n",
    "plt.plot(range(n_iters), costs)\n",
    "plt.title(\"Training cost\")\n",
    "plt.xlabel(\"Iterations\")\n",
    "plt.ylabel(\"Cost\")\n",
    "plt.show()"
   ]
  },
  {
   "cell_type": "code",
   "execution_count": 2,
   "metadata": {
    "scrolled": true
   },
   "outputs": [
    {
     "ename": "NameError",
     "evalue": "name 'X' is not defined",
     "output_type": "error",
     "traceback": [
      "\u001b[0;31m---------------------------------------------------------------------------\u001b[0m",
      "\u001b[0;31mNameError\u001b[0m                                 Traceback (most recent call last)",
      "Input \u001b[0;32mIn [2]\u001b[0m, in \u001b[0;36m<module>\u001b[0;34m\u001b[0m\n\u001b[0;32m----> 1\u001b[0m plot_nn(x1\u001b[38;5;241m=\u001b[39m\u001b[43mX\u001b[49m[\u001b[38;5;241m0\u001b[39m,:]\u001b[38;5;241m.\u001b[39mT, x2\u001b[38;5;241m=\u001b[39mX[\u001b[38;5;241m1\u001b[39m,:]\u001b[38;5;241m.\u001b[39mT, y\u001b[38;5;241m=\u001b[39my\u001b[38;5;241m.\u001b[39mflatten(), w1\u001b[38;5;241m=\u001b[39mW1, w2\u001b[38;5;241m=\u001b[39mW2, b1\u001b[38;5;241m=\u001b[39mb1, b2\u001b[38;5;241m=\u001b[39mb2, show_loss\u001b[38;5;241m=\u001b[39m\u001b[38;5;28;01mTrue\u001b[39;00m, ax\u001b[38;5;241m=\u001b[39m\u001b[38;5;28;01mNone\u001b[39;00m)\n",
      "\u001b[0;31mNameError\u001b[0m: name 'X' is not defined"
     ]
    }
   ],
   "source": [
    "plot_nn(x1=X[0,:].T, x2=X[1,:].T, y=y.flatten(), w1=W1, w2=W2, b1=b1, b2=b2, show_loss=True, ax=None)"
   ]
  },
  {
   "cell_type": "code",
   "execution_count": null,
   "metadata": {},
   "outputs": [],
   "source": []
  },
  {
   "cell_type": "code",
   "execution_count": null,
   "metadata": {},
   "outputs": [],
   "source": []
  },
  {
   "cell_type": "code",
   "execution_count": null,
   "metadata": {},
   "outputs": [],
   "source": []
  },
  {
   "cell_type": "code",
   "execution_count": null,
   "metadata": {},
   "outputs": [],
   "source": []
  },
  {
   "cell_type": "code",
   "execution_count": null,
   "metadata": {},
   "outputs": [],
   "source": []
  }
 ],
 "metadata": {
  "kernelspec": {
   "display_name": "Python 3 (ipykernel)",
   "language": "python",
   "name": "python3"
  },
  "language_info": {
   "codemirror_mode": {
    "name": "ipython",
    "version": 3
   },
   "file_extension": ".py",
   "mimetype": "text/x-python",
   "name": "python",
   "nbconvert_exporter": "python",
   "pygments_lexer": "ipython3",
   "version": "3.8.10"
  }
 },
 "nbformat": 4,
 "nbformat_minor": 4
}
